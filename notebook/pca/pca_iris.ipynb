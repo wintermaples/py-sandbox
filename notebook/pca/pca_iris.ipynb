{
 "cells": [
  {
   "cell_type": "code",
   "execution_count": 54,
   "metadata": {},
   "outputs": [],
   "source": [
    "import numpy as np\n",
    "import pandas as pd\n",
    "from sklearn.datasets import load_iris"
   ]
  },
  {
   "cell_type": "code",
   "execution_count": 55,
   "metadata": {},
   "outputs": [],
   "source": [
    "iris_data = load_iris()\n",
    "data = iris_data['data']\n",
    "targets = iris_data['target']\n",
    "target_names = iris_data['target_names']\n",
    "feature_names = iris_data['feature_names']"
   ]
  },
  {
   "cell_type": "code",
   "execution_count": 56,
   "metadata": {},
   "outputs": [
    {
     "name": "stdout",
     "output_type": "stream",
     "text": [
      "   sepal length (cm)  sepal width (cm)  petal length (cm)  petal width (cm)\n",
      "0                5.1               3.5                1.4               0.2\n",
      "1                4.9               3.0                1.4               0.2\n",
      "2                4.7               3.2                1.3               0.2\n",
      "3                4.6               3.1                1.5               0.2\n",
      "4                5.0               3.6                1.4               0.2\n",
      "5                5.4               3.9                1.7               0.4\n",
      "6                4.6               3.4                1.4               0.3\n",
      "7                5.0               3.4                1.5               0.2\n",
      "8                4.4               2.9                1.4               0.2\n",
      "9                4.9               3.1                1.5               0.1\n",
      "   sepal length (cm)  sepal width (cm)  petal length (cm)  petal width (cm)\n",
      "0          -0.900681          1.019004          -1.340227         -1.315444\n",
      "1          -1.143017         -0.131979          -1.340227         -1.315444\n",
      "2          -1.385353          0.328414          -1.397064         -1.315444\n",
      "3          -1.506521          0.098217          -1.283389         -1.315444\n",
      "4          -1.021849          1.249201          -1.340227         -1.315444\n",
      "5          -0.537178          1.939791          -1.169714         -1.052180\n",
      "6          -1.506521          0.788808          -1.340227         -1.183812\n",
      "7          -1.021849          0.788808          -1.283389         -1.315444\n",
      "8          -1.748856         -0.362176          -1.340227         -1.315444\n",
      "9          -1.143017          0.098217          -1.283389         -1.447076\n"
     ]
    }
   ],
   "source": [
    "data = pd.DataFrame(data, columns=feature_names)\n",
    "print(data[:10])\n",
    "data = (data - data.mean()) / data.std(ddof=0)\n",
    "print(data[:10])"
   ]
  },
  {
   "cell_type": "code",
   "execution_count": 57,
   "metadata": {},
   "outputs": [
    {
     "name": "stdout",
     "output_type": "stream",
     "text": [
      "寄与値: [0.72962445 0.22850762]\n",
      "固有ベクトル: [20.92306556 11.7091661 ]\n",
      "          0         1  target\n",
      "0 -2.264703  0.480027  setosa\n",
      "1 -2.080961 -0.674134  setosa\n",
      "2 -2.364229 -0.341908  setosa\n",
      "3 -2.299384 -0.597395  setosa\n",
      "4 -2.389842  0.646835  setosa\n",
      "5 -2.075631  1.489178  setosa\n",
      "6 -2.444029  0.047644  setosa\n",
      "7 -2.232847  0.223148  setosa\n",
      "8 -2.334640 -1.115328  setosa\n",
      "9 -2.184328 -0.469014  setosa\n"
     ]
    }
   ],
   "source": [
    "from sklearn.decomposition import PCA\n",
    "pca = PCA(n_components=2)\n",
    "pca.fit(data)\n",
    "\n",
    "print(f'寄与値: {pca.explained_variance_ratio_}')\n",
    "print(f'固有ベクトル: {pca.singular_values_}')\n",
    "\n",
    "data_on_pca = pd.DataFrame(pca.transform(data))\n",
    "data_on_pca['target'] = target_names[targets]\n",
    "print(data_on_pca[:10])"
   ]
  },
  {
   "cell_type": "code",
   "execution_count": 58,
   "metadata": {},
   "outputs": [
    {
     "data": {
      "image/png": "[encoded data removed]",
      "text/plain": [
       "<Figure size 432x288 with 1 Axes>"
      ]
     },
     "metadata": {
      "needs_background": "light"
     },
     "output_type": "display_data"
    }
   ],
   "source": [
    "from matplotlib import pyplot as plt\n",
    "import itertools\n",
    "\n",
    "color_cycle= itertools.cycle([\"orange\",\"pink\",\"blue\",\"brown\",\"red\",\"grey\",\"yellow\",\"green\"])\n",
    "\n",
    "fig = plt.figure()\n",
    "ax = fig.add_subplot(111, xlabel='PC1', ylabel='PC2')\n",
    "for key, group in data_on_pca.groupby('target'):\n",
    "    ax.scatter(group.iloc[:, 0], group.iloc[:, 1], c=next(color_cycle))\n"
   ]
  }
 ],
 "metadata": {
  "interpreter": {
   "hash": "71a20a3f3607743700adc78d2724470150efb2d9c1bdd7e6bc6c88c7756b98c1"
  },
  "kernelspec": {
   "display_name": "Python 3.10.0 64-bit ('.venv': poetry)",
   "language": "python",
   "name": "python3"
  },
  "language_info": {
   "codemirror_mode": {
    "name": "ipython",
    "version": 3
   },
   "file_extension": ".py",
   "mimetype": "text/x-python",
   "name": "python",
   "nbconvert_exporter": "python",
   "pygments_lexer": "ipython3",
   "version": "3.10.0"
  },
  "orig_nbformat": 4
 },
 "nbformat": 4,
 "nbformat_minor": 2
}
