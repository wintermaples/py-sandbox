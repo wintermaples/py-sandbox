{
 "cells": [
  {
   "cell_type": "code",
   "execution_count": 49,
   "metadata": {},
   "outputs": [],
   "source": [
    "import numpy as np\n",
    "import pandas as pd\n",
    "from sklearn.datasets import load_iris"
   ]
  },
  {
   "cell_type": "code",
   "execution_count": 50,
   "metadata": {},
   "outputs": [],
   "source": [
    "iris_data = load_iris()\n",
    "data = iris_data['data']\n",
    "targets = iris_data['target']\n",
    "target_names = iris_data['target_names']\n",
    "feature_names = iris_data['feature_names']"
   ]
  },
  {
   "cell_type": "code",
   "execution_count": 51,
   "metadata": {},
   "outputs": [
    {
     "name": "stdout",
     "output_type": "stream",
     "text": [
      "   sepal length (cm)  sepal width (cm)  petal length (cm)  petal width (cm)\n",
      "0                5.1               3.5                1.4               0.2\n",
      "1                4.9               3.0                1.4               0.2\n",
      "2                4.7               3.2                1.3               0.2\n",
      "3                4.6               3.1                1.5               0.2\n",
      "4                5.0               3.6                1.4               0.2\n",
      "5                5.4               3.9                1.7               0.4\n",
      "6                4.6               3.4                1.4               0.3\n",
      "7                5.0               3.4                1.5               0.2\n",
      "8                4.4               2.9                1.4               0.2\n",
      "9                4.9               3.1                1.5               0.1\n",
      "   sepal length (cm)  sepal width (cm)  petal length (cm)  petal width (cm)\n",
      "0          -0.743333          0.442667             -2.358         -0.999333\n",
      "1          -0.943333         -0.057333             -2.358         -0.999333\n",
      "2          -1.143333          0.142667             -2.458         -0.999333\n",
      "3          -1.243333          0.042667             -2.258         -0.999333\n",
      "4          -0.843333          0.542667             -2.358         -0.999333\n",
      "5          -0.443333          0.842667             -2.058         -0.799333\n",
      "6          -1.243333          0.342667             -2.358         -0.899333\n",
      "7          -0.843333          0.342667             -2.258         -0.999333\n",
      "8          -1.443333         -0.157333             -2.358         -0.999333\n",
      "9          -0.943333          0.042667             -2.258         -1.099333\n"
     ]
    }
   ],
   "source": [
    "data = pd.DataFrame(data, columns=feature_names)\n",
    "print(data[:10])\n",
    "data = (data - data.mean()) / data.std(ddof=0)\n",
    "print(data[:10])"
   ]
  },
  {
   "cell_type": "code",
   "execution_count": 52,
   "metadata": {},
   "outputs": [
    {
     "name": "stdout",
     "output_type": "stream",
     "text": [
      "寄与値: [0.92461872 0.05306648]\n",
      "固有ベクトル: [25.09996044  6.01314738]\n",
      "          0         1  target\n",
      "0 -2.684126  0.319397  setosa\n",
      "1 -2.714142 -0.177001  setosa\n",
      "2 -2.888991 -0.144949  setosa\n",
      "3 -2.745343 -0.318299  setosa\n",
      "4 -2.728717  0.326755  setosa\n",
      "5 -2.280860  0.741330  setosa\n",
      "6 -2.820538 -0.089461  setosa\n",
      "7 -2.626145  0.163385  setosa\n",
      "8 -2.886383 -0.578312  setosa\n",
      "9 -2.672756 -0.113774  setosa\n"
     ]
    }
   ],
   "source": [
    "from sklearn.decomposition import PCA\n",
    "pca = PCA(n_components=2)\n",
    "pca.fit(data)\n",
    "\n",
    "print(f'寄与値: {pca.explained_variance_ratio_}')\n",
    "print(f'固有ベクトル: {pca.singular_values_}')\n",
    "\n",
    "data_on_pca = pd.DataFrame(pca.transform(data))\n",
    "data_on_pca['target'] = target_names[targets]\n",
    "print(data_on_pca[:10])"
   ]
  },
  {
   "cell_type": "code",
   "execution_count": 53,
   "metadata": {},
   "outputs": [
    {
     "data": {
      "image/png": "[encoded data removed]",
      "text/plain": [
       "<Figure size 432x288 with 1 Axes>"
      ]
     },
     "metadata": {
      "needs_background": "light"
     },
     "output_type": "display_data"
    }
   ],
   "source": [
    "from matplotlib import pyplot as plt\n",
    "import itertools\n",
    "\n",
    "color_cycle= itertools.cycle([\"orange\",\"pink\",\"blue\",\"brown\",\"red\",\"grey\",\"yellow\",\"green\"])\n",
    "\n",
    "fig = plt.figure()\n",
    "ax = fig.add_subplot(111, xlabel='PC1', ylabel='PC2')\n",
    "for key, group in data_on_pca.groupby('target'):\n",
    "    ax.scatter(group.iloc[:, 0], group.iloc[:, 1], c=next(color_cycle))\n"
   ]
  }
 ],
 "metadata": {
  "interpreter": {
   "hash": "71a20a3f3607743700adc78d2724470150efb2d9c1bdd7e6bc6c88c7756b98c1"
  },
  "kernelspec": {
   "display_name": "Python 3.10.0 64-bit ('.venv': poetry)",
   "language": "python",
   "name": "python3"
  },
  "language_info": {
   "codemirror_mode": {
    "name": "ipython",
    "version": 3
   },
   "file_extension": ".py",
   "mimetype": "text/x-python",
   "name": "python",
   "nbconvert_exporter": "python",
   "pygments_lexer": "ipython3",
   "version": "3.10.0"
  },
  "orig_nbformat": 4
 },
 "nbformat": 4,
 "nbformat_minor": 2
}
