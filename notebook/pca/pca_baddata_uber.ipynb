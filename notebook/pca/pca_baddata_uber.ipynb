{
 "cells": [
  {
   "cell_type": "code",
   "execution_count": 38,
   "metadata": {},
   "outputs": [],
   "source": [
    "import numpy as np\n",
    "import pandas as pd\n",
    "from geopy.distance import geodesic"
   ]
  },
  {
   "cell_type": "code",
   "execution_count": 39,
   "metadata": {},
   "outputs": [
    {
     "name": "stdout",
     "output_type": "stream",
     "text": [
      "   fare_amount  pickup_longitude  pickup_latitude  dropoff_longitude  \\\n",
      "0          7.5        -73.999817        40.738354         -73.999512   \n",
      "1          7.7        -73.994355        40.728225         -73.994710   \n",
      "2         12.9        -74.005043        40.740770         -73.962565   \n",
      "3          5.3        -73.976124        40.790844         -73.965316   \n",
      "4         16.0        -73.925023        40.744085         -73.973082   \n",
      "\n",
      "   dropoff_latitude  passenger_count  \n",
      "0         40.723217                1  \n",
      "1         40.750325                1  \n",
      "2         40.772647                1  \n",
      "3         40.803349                3  \n",
      "4         40.761247                5  \n"
     ]
    }
   ],
   "source": [
    "data = pd.read_csv('uber.csv').iloc[:, [2,4,5,6,7,8]].dropna()\n",
    "# latがおかしいのがあるので除外\n",
    "data = data[data['pickup_latitude'] >= -90]\n",
    "data = data[data['pickup_latitude'] <= 90]\n",
    "data = data[data['dropoff_latitude'] >= -90]\n",
    "data = data[data['dropoff_latitude'] <= 90]\n",
    "# 人数がバカみたいに多いやつがいるので除外\n",
    "data = data[data['passenger_count'] <= 20]\n",
    "print(data[:5])"
   ]
  },
  {
   "cell_type": "code",
   "execution_count": 40,
   "metadata": {},
   "outputs": [
    {
     "name": "stdout",
     "output_type": "stream",
     "text": [
      "   fare_amount     distance  passenger_count\n",
      "0          7.5  1681.110742                1\n",
      "1          7.7  2454.363240                1\n",
      "2         12.9  5039.602684                1\n",
      "3          5.3  1661.441524                3\n",
      "4         16.0  4483.730087                5\n"
     ]
    }
   ],
   "source": [
    "def calc_distance(df):\n",
    "    return geodesic((df['pickup_latitude'], df['pickup_longitude']), (df['dropoff_latitude'], df['dropoff_longitude'])).m\n",
    "data['distance'] = data.apply(calc_distance, axis=1)\n",
    "data = data[['fare_amount', 'distance', 'passenger_count']]\n",
    "print(data[:5])"
   ]
  },
  {
   "cell_type": "code",
   "execution_count": 41,
   "metadata": {},
   "outputs": [
    {
     "name": "stdout",
     "output_type": "stream",
     "text": [
      "   fare_amount  distance  passenger_count\n",
      "0    -0.389812 -0.050013        -0.522978\n",
      "1    -0.369613 -0.047981        -0.522978\n",
      "2     0.155540 -0.041187        -0.522978\n",
      "3    -0.611992 -0.050064         1.007286\n",
      "4     0.468612 -0.042648         2.537550\n"
     ]
    }
   ],
   "source": [
    "from scipy import stats\n",
    "normalized_data = (data - data.mean()) / data.std(ddof=0)\n",
    "print(normalized_data[:5])"
   ]
  },
  {
   "cell_type": "code",
   "execution_count": 42,
   "metadata": {},
   "outputs": [
    {
     "name": "stdout",
     "output_type": "stream",
     "text": [
      "寄与値: [0.34212607 0.33373244]\n",
      "固有ベクトル: [453.06561877 447.47341231]\n"
     ]
    }
   ],
   "source": [
    "from sklearn.decomposition import PCA\n",
    "pca = PCA(n_components=2)\n",
    "pca.fit(normalized_data)\n",
    "\n",
    "print(f'寄与値: {pca.explained_variance_ratio_}')\n",
    "print(f'固有ベクトル: {pca.singular_values_}')\n",
    "\n",
    "data_on_pca = pca.transform(data)"
   ]
  },
  {
   "cell_type": "code",
   "execution_count": 43,
   "metadata": {},
   "outputs": [
    {
     "data": {
      "text/plain": [
       "<matplotlib.collections.PathCollection at 0x2040f9e27d0>"
      ]
     },
     "execution_count": 43,
     "metadata": {},
     "output_type": "execute_result"
    },
    {
     "data": {
      "image/png": "[encoded data removed]",
      "text/plain": [
       "<Figure size 432x288 with 1 Axes>"
      ]
     },
     "metadata": {
      "needs_background": "light"
     },
     "output_type": "display_data"
    },
    {
     "data": {
      "image/png": "[encoded data removed]",
      "text/plain": [
       "<Figure size 432x288 with 1 Axes>"
      ]
     },
     "metadata": {
      "needs_background": "light"
     },
     "output_type": "display_data"
    },
    {
     "data": {
      "image/png": "[encoded data removed]",
      "text/plain": [
       "<Figure size 432x288 with 1 Axes>"
      ]
     },
     "metadata": {
      "needs_background": "light"
     },
     "output_type": "display_data"
    }
   ],
   "source": [
    "from matplotlib import pyplot as plt\n",
    "fig = plt.figure()\n",
    "ax = fig.add_subplot(111, xlabel='PC1', ylabel='PC2')\n",
    "ax.scatter(data_on_pca[:, 0], data_on_pca[:, 1])\n",
    "\n",
    "fig = plt.figure()\n",
    "ax = fig.add_subplot(111, xlabel='distance', ylabel='fare_amount')\n",
    "ax.scatter(data['distance'], data['fare_amount'])\n",
    "\n",
    "fig = plt.figure()\n",
    "ax = fig.add_subplot(111, xlabel='passenger_count', ylabel='fare_amount')\n",
    "ax.scatter(data['passenger_count'], data['fare_amount'])"
   ]
  },
  {
   "cell_type": "markdown",
   "metadata": {},
   "source": []
  }
 ],
 "metadata": {
  "interpreter": {
   "hash": "71a20a3f3607743700adc78d2724470150efb2d9c1bdd7e6bc6c88c7756b98c1"
  },
  "kernelspec": {
   "display_name": "Python 3.10.0 64-bit ('.venv': poetry)",
   "language": "python",
   "name": "python3"
  },
  "language_info": {
   "codemirror_mode": {
    "name": "ipython",
    "version": 3
   },
   "file_extension": ".py",
   "mimetype": "text/x-python",
   "name": "python",
   "nbconvert_exporter": "python",
   "pygments_lexer": "ipython3",
   "version": "3.10.0"
  },
  "orig_nbformat": 4
 },
 "nbformat": 4,
 "nbformat_minor": 2
}
